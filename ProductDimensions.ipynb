{
 "cells": [
  {
   "cell_type": "code",
   "execution_count": 3,
   "id": "7534c338-ca6c-47fe-9622-94a07416a974",
   "metadata": {},
   "outputs": [
    {
     "name": "stdout",
     "output_type": "stream",
     "text": [
      "Mean:  98.50000000000001\n",
      "Median:  98.5\n",
      "Mode:  98.5\n",
      "Multimode:  [98.5]\n"
     ]
    }
   ],
   "source": [
    "import numpy as np\n",
    "from statistics import mode,multimode\n",
    "\n",
    "#Input details to from the dataset\n",
    "dataset = [98.2, 97.8, 99.1, 98.5, 98.9, 97.6, 98.3, 99.2, 98.7, 98.4, 97.9, 99.0, 98.6, 98.1, 98.8, 99.3, 98.0, 97.7, 99.4, 98.5]\n",
    "\n",
    "#Calculate the mean, median and mode of the dataset\n",
    "mean = np.mean(dataset)\n",
    "median = np.median(dataset)\n",
    "mode = mode(dataset)\n",
    "multi_mode = multimode(dataset)\n",
    "print(\"Mean: \",mean)\n",
    "print(\"Median: \",median)\n",
    "print(\"Mode: \",mode)\n",
    "print(\"Multimode: \",multi_mode)"
   ]
  },
  {
   "cell_type": "code",
   "execution_count": 4,
   "id": "f883edd7-30b3-4876-8240-71b41207b2ea",
   "metadata": {},
   "outputs": [
    {
     "data": {
      "text/plain": [
       "'This dataset shows a high level of consistency, as all three measures of central tendency (mean, median, and mode) are the same at 98.5. This suggests that the data is likely very concentrated around this value, indicating minimal variability'"
      ]
     },
     "execution_count": 4,
     "metadata": {},
     "output_type": "execute_result"
    }
   ],
   "source": [
    "\"\"\"This dataset shows a high level of consistency, as all three measures of central tendency (mean, median, and mode) are the same at 98.5. This suggests that the data is likely very concentrated around this value, indicating minimal variability\"\"\""
   ]
  },
  {
   "cell_type": "code",
   "execution_count": null,
   "id": "04d43b8e-f11b-4e95-ac29-dc3e1eabec1f",
   "metadata": {},
   "outputs": [],
   "source": []
  }
 ],
 "metadata": {
  "kernelspec": {
   "display_name": "Python 3 (ipykernel)",
   "language": "python",
   "name": "python3"
  },
  "language_info": {
   "codemirror_mode": {
    "name": "ipython",
    "version": 3
   },
   "file_extension": ".py",
   "mimetype": "text/x-python",
   "name": "python",
   "nbconvert_exporter": "python",
   "pygments_lexer": "ipython3",
   "version": "3.12.5"
  }
 },
 "nbformat": 4,
 "nbformat_minor": 5
}
