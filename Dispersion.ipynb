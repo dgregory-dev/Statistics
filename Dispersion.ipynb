{
 "cells": [
  {
   "cell_type": "code",
   "execution_count": 8,
   "id": "14d56526-a1ff-48dc-b40f-0ed21add6fe3",
   "metadata": {},
   "outputs": [
    {
     "name": "stdout",
     "output_type": "stream",
     "text": [
      "Mean:  10.044\n",
      "Min value:  9.7\n",
      "Max value:  10.4\n",
      "Variance:  0.03126399999999995\n",
      "Range:  0.7000000000000011\n",
      "Standard deviation:  0.1768162888424026\n"
     ]
    }
   ],
   "source": [
    "import numpy as np\n",
    "\n",
    "#Create a dataset to be analysed\n",
    "dataset= [10.2,9.8,10.0,10.1,9.9,10.3,10.2,9.7,10.1,10.0,9.9,10.4,10.2,9.8,10.1,10.0,9.9,10.2,10.3,9.8,10.0,10.1,9.9,10.2,10.0]\n",
    "\n",
    "# Calculate the mean, min and max values, the range, variance and standard deviation of the dataset\n",
    "mean = np.mean(dataset)\n",
    "max_value=np.max(dataset)\n",
    "variance = np.var(dataset)\n",
    "min_value =np.min(dataset)\n",
    "range_value = max_value - min_value\n",
    "std_dev = np.std(dataset)\n",
    "\n",
    "#Output the values of said calculations\n",
    "print(\"Mean: \", mean)\n",
    "print(\"Min value: \", min_value)\n",
    "print(\"Max value: \", max_value)\n",
    "print(\"Variance: \", variance)\n",
    "print(\"Range: \", range_value)\n",
    "print(\"Standard deviation: \",std_dev)\n"
   ]
  },
  {
   "cell_type": "code",
   "execution_count": 9,
   "id": "bdeb3f3f-5043-434f-91cc-76e39bae547e",
   "metadata": {},
   "outputs": [
    {
     "data": {
      "text/plain": [
       "'Mean (Average): The average value of the dataset is approximately 10.044. This suggests that the central tendency of your data points is around this value.\\n\\nMin and Max Values: The minimum value is 9.7, and the maximum value is 10.4. This indicates that the values in your dataset are fairly close together.\\n\\nRange: The range is 0.7 (10.4 - 9.7), which shows the spread of the dataset. A smaller range indicates that the values are relatively clustered around the mean.\\n\\nVariance: The variance is approximately 0.0313. This low variance suggests that the data points are close to the mean, indicating low variability.\\n\\nStandard Deviation: The standard deviation is about 0.177. This value further emphasizes the low variability of the dataset; most values lie within this range from the mean.\\n\\nSummary:\\nOverall, the dataset is relatively consistent, with values clustering closely around the mean of 10.044. The low variance and standard deviation reinforce the idea that there isn’t much fluctuation in the data.'"
      ]
     },
     "execution_count": 9,
     "metadata": {},
     "output_type": "execute_result"
    }
   ],
   "source": [
    "\"\"\"Mean (Average): The average value of the dataset is approximately 10.044. This suggests that the central tendency of your data points is around this value.\n",
    "\n",
    "Min and Max Values: The minimum value is 9.7, and the maximum value is 10.4. This indicates that the values in your dataset are fairly close together.\n",
    "\n",
    "Range: The range is 0.7 (10.4 - 9.7), which shows the spread of the dataset. A smaller range indicates that the values are relatively clustered around the mean.\n",
    "\n",
    "Variance: The variance is approximately 0.0313. This low variance suggests that the data points are close to the mean, indicating low variability.\n",
    "\n",
    "Standard Deviation: The standard deviation is about 0.177. This value further emphasizes the low variability of the dataset; most values lie within this range from the mean.\n",
    "\n",
    "Summary:\n",
    "Overall, the dataset is relatively consistent, with values clustering closely around the mean of 10.044. The low variance and standard deviation reinforce the idea that there isn’t much fluctuation in the data.\"\"\""
   ]
  },
  {
   "cell_type": "code",
   "execution_count": null,
   "id": "70a0e1cf-3142-49ed-b444-53a9152868a0",
   "metadata": {},
   "outputs": [],
   "source": [
    " "
   ]
  }
 ],
 "metadata": {
  "kernelspec": {
   "display_name": "Python 3 (ipykernel)",
   "language": "python",
   "name": "python3"
  },
  "language_info": {
   "codemirror_mode": {
    "name": "ipython",
    "version": 3
   },
   "file_extension": ".py",
   "mimetype": "text/x-python",
   "name": "python",
   "nbconvert_exporter": "python",
   "pygments_lexer": "ipython3",
   "version": "3.12.5"
  }
 },
 "nbformat": 4,
 "nbformat_minor": 5
}
